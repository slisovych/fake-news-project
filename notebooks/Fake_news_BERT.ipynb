{
 "cells": [
  {
   "cell_type": "code",
   "execution_count": 1,
   "metadata": {
    "colab": {
     "base_uri": "https://localhost:8080/"
    },
    "executionInfo": {
     "elapsed": 7612,
     "status": "ok",
     "timestamp": 1759330786833,
     "user": {
      "displayName": "Svitlana Lisovych",
      "userId": "17285269011352565255"
     },
     "user_tz": -120
    },
    "id": "8_mqR9EGtozz",
    "outputId": "2cd9ce8c-917d-4f10-eccf-896b17168655"
   },
   "outputs": [
    {
     "name": "stdout",
     "output_type": "stream",
     "text": [
      "\u001b[?25l   \u001b[90m━━━━━━━━━━━━━━━━━━━━━━━━━━━━━━━━━━━━━━━━\u001b[0m \u001b[32m0.0/84.1 kB\u001b[0m \u001b[31m?\u001b[0m eta \u001b[36m-:--:--\u001b[0m\r",
      "\u001b[2K   \u001b[90m━━━━━━━━━━━━━━━━━━━━━━━━━━━━━━━━━━━━━━━━\u001b[0m \u001b[32m84.1/84.1 kB\u001b[0m \u001b[31m3.9 MB/s\u001b[0m eta \u001b[36m0:00:00\u001b[0m\n",
      "\u001b[?25h"
     ]
    }
   ],
   "source": [
    "!pip install transformers datasets evaluate torch --quiet"
   ]
  },
  {
   "cell_type": "code",
   "execution_count": 2,
   "metadata": {
    "executionInfo": {
     "elapsed": 40670,
     "status": "ok",
     "timestamp": 1759330827511,
     "user": {
      "displayName": "Svitlana Lisovych",
      "userId": "17285269011352565255"
     },
     "user_tz": -120
    },
    "id": "C0-fjQla9yBE"
   },
   "outputs": [],
   "source": [
    "import os, random, numpy as np, pandas as pd, torch, hashlib\n",
    "from sklearn.model_selection import train_test_split\n",
    "from datasets import Dataset, Value\n",
    "from transformers import AutoTokenizer\n",
    "from transformers import AutoModelForSequenceClassification, TrainingArguments, Trainer\n",
    "from transformers import DataCollatorWithPadding\n",
    "from transformers import EarlyStoppingCallback\n",
    "from torch.nn.functional import softmax\n",
    "from sklearn.metrics import f1_score, classification_report, confusion_matrix, roc_auc_score, average_precision_score\n"
   ]
  },
  {
   "cell_type": "code",
   "execution_count": 3,
   "metadata": {
    "colab": {
     "base_uri": "https://localhost:8080/",
     "height": 36
    },
    "executionInfo": {
     "elapsed": 24,
     "status": "ok",
     "timestamp": 1759330827565,
     "user": {
      "displayName": "Svitlana Lisovych",
      "userId": "17285269011352565255"
     },
     "user_tz": -120
    },
    "id": "2Tnw3_47oQOi",
    "outputId": "309245e0-7fc5-442a-db43-3543912df9a9"
   },
   "outputs": [
    {
     "data": {
      "application/vnd.google.colaboratory.intrinsic+json": {
       "type": "string"
      },
      "text/plain": [
       "'cuda'"
      ]
     },
     "execution_count": 3,
     "metadata": {},
     "output_type": "execute_result"
    }
   ],
   "source": [
    "# Reproducibility setup: fix global seeds and enforce deterministic behavior\n",
    "# across Python, NumPy, and PyTorch (CPU & GPU).\n",
    "# Note: disabling cuDNN benchmark and enabling deterministic mode\n",
    "# may slightly reduce training speed but guarantees reproducible runs.\n",
    "\n",
    "SEED = 42\n",
    "random.seed(SEED); np.random.seed(SEED); torch.manual_seed(SEED)\n",
    "torch.cuda.manual_seed_all(SEED)\n",
    "os.environ[\"PYTHONHASHSEED\"] = str(SEED)\n",
    "\n",
    "torch.backends.cudnn.deterministic = True\n",
    "torch.backends.cudnn.benchmark = False\n",
    "\n",
    "DEVICE = \"cuda\" if torch.cuda.is_available() else \"cpu\"\n",
    "DEVICE"
   ]
  },
  {
   "cell_type": "code",
   "execution_count": 4,
   "metadata": {
    "colab": {
     "base_uri": "https://localhost:8080/"
    },
    "executionInfo": {
     "elapsed": 1797,
     "status": "ok",
     "timestamp": 1759330829369,
     "user": {
      "displayName": "Svitlana Lisovych",
      "userId": "17285269011352565255"
     },
     "user_tz": -120
    },
    "id": "eKayxTeGZNAZ",
    "outputId": "3bb8177c-1355-43d5-92ba-33e2ca00be58"
   },
   "outputs": [
    {
     "name": "stdout",
     "output_type": "stream",
     "text": [
      "Before drop_duplicates: 44680\n",
      "After  drop_duplicates: 39100\n"
     ]
    }
   ],
   "source": [
    "# Loading + basic cleaning\n",
    "df = pd.read_csv('fake_news_full_data.csv', index_col=0)\n",
    "df = df.drop(columns=[\"date\"], errors=\"ignore\")                     # drop date (risk of leakage)\n",
    "df = df.drop(columns=[c for c in df.columns if c.lower().startswith(\"unnamed\")], errors=\"ignore\")\n",
    "\n",
    "# prepare text\n",
    "df[\"title\"] = df[\"title\"].fillna(\"\").astype(str)\n",
    "df[\"text\"]  = df[\"text\"].fillna(\"\").astype(str)\n",
    "df[\"text_all\"] = df[\"title\"] + \" [SEP] \" + df[\"text\"]\n",
    "\n",
    "print(\"Before drop_duplicates:\", len(df))\n",
    "\n",
    "df_clean = df.drop_duplicates(subset=\"text_all\").reset_index(drop=True)\n",
    "print(\"After  drop_duplicates:\", len(df_clean))\n"
   ]
  },
  {
   "cell_type": "code",
   "execution_count": 5,
   "metadata": {
    "colab": {
     "base_uri": "https://localhost:8080/"
    },
    "executionInfo": {
     "elapsed": 50,
     "status": "ok",
     "timestamp": 1759330829446,
     "user": {
      "displayName": "Svitlana Lisovych",
      "userId": "17285269011352565255"
     },
     "user_tz": -120
    },
    "id": "PDvZzcVih-zf",
    "outputId": "459b77e7-1613-440e-c735-e0aa9f160c44"
   },
   "outputs": [
    {
     "name": "stdout",
     "output_type": "stream",
     "text": [
      "Sizes → train=31280, val=3910, test=3910\n",
      "train∩val : 0\n",
      "train∩test: 0\n",
      "val∩test  : 0\n"
     ]
    }
   ],
   "source": [
    "# Split 80/10/10\n",
    "X = df_clean[\"text_all\"].values\n",
    "y = df_clean[\"is_fake\"].astype(int).values\n",
    "\n",
    "X_train, X_temp, y_train, y_temp = train_test_split(\n",
    "    X, y, test_size=0.20, random_state=SEED, stratify=y\n",
    ")\n",
    "X_val, X_test, y_val, y_test = train_test_split(\n",
    "    X_temp, y_temp, test_size=0.50, random_state=SEED, stratify=y_temp\n",
    ")\n",
    "\n",
    "print(f\"Sizes → train={len(X_train)}, val={len(X_val)}, test={len(X_test)}\")\n",
    "\n",
    "# Quick check: ensure there are no exact duplicates across splits\n",
    "print(\"train∩val :\", len(set(X_train) & set(X_val)))\n",
    "print(\"train∩test:\", len(set(X_train) & set(X_test)))\n",
    "print(\"val∩test  :\", len(set(X_val)   & set(X_test)))"
   ]
  },
  {
   "cell_type": "code",
   "execution_count": 6,
   "metadata": {
    "colab": {
     "base_uri": "https://localhost:8080/",
     "height": 1000,
     "referenced_widgets": [
      "60aec9069bf84c9a8080e6ea050d6c6e",
      "37d958fc702745e3b1a30f63d14341f8",
      "1897153d0fe14fdea3ca8c8b37934299",
      "bda54ba3702a493bb9484f1ba9db584c",
      "ea90feb16aaa44f5ac5972586571f15b",
      "9210df8a7f984395974a7685a8a34a1b",
      "b5eaa1301f1545a08e8662d1ccb5421f",
      "3873008438254cd4b1160a7a43331467",
      "c2c84fc85aac4a85a80ddbe2b7e0c541",
      "323a93fd13934644938ed4e0a767c752",
      "478315096bdd4ab19a881eb1ab6d654c",
      "1370851c589041a4a8c79ffd20aff297",
      "a5887ee3c21b4a248d0496efab0a893a",
      "da37153c76df47e5b92f03447c504186",
      "c54b8daee7094c69a9d631a0faa2ba85",
      "2b0b110d86584d2fa787cd73d1b0c4be",
      "8bb0933198794472b6405eb595cf415f",
      "a2256a9ee0de4c1cbc70a707173739cf",
      "5d1e38e9fdac43639dd69e8287ecfac9",
      "d19953a7afd642a9a666db276fe1b820",
      "595efd47ff1d4775a4225da973c05f0a",
      "be19d035e2514a21b2b622c546160098",
      "f4e7d192246c42b6b28ca2fd2519d653",
      "8ef702eb95b448858ae6f3d74262ad0c",
      "86eee8d09a5a4736a9e3b7d5947bac6d",
      "f22397b8f6ea40b18567b9877b6789ca",
      "3e87628789db495ea9428c6518217f95",
      "9d737b0b39134307bbc94ed5688760d8",
      "dfdc594d7a644797af86cd0ef468669d",
      "45e09ea230ea4f7c858c34fa6d240996",
      "b419ddf51d384f72a7429b99b1b47909",
      "cc18ef1bde6241c89f8555620d640083",
      "048a99e19c7e485e9c70776580752594",
      "3ae864cb321e4481b8e77d01d0484add",
      "ca0560dd7e094e56a0352ea44c491c81",
      "66902c9ea38942fca6058e4ee6fd0c50",
      "cc57bea6e7944613bc2ddc8d4f70e00b",
      "679eda2d48b748c294165778a0a2d95a",
      "227d2c74aaaa47968c1e5b78833ce7fc",
      "bbabe648b4d94a80acb3b16cd65e7e6b",
      "61ecaa4605e34dc4bcbb5a0707b14b67",
      "9ffdec6053184f008aaf104060d9fc70",
      "b5b637a3abee4418899c6ef00f0b9eeb",
      "33e514c7553a4ab3982785210e90d40e",
      "bef3d92c0be34a09b52f73c3272248ac",
      "a030ecc8609e4df6bc17d0b3b51750e5",
      "619f0feeec1c4579a1ec6ac4fd9fc502",
      "e0566e16e9c74918af40edc966e4afca",
      "cb4e3a72ec5247a495032c6cc9728731",
      "50dabe187d90447f96e2b040c8305fad",
      "e02277f3226a46afa44f2877bdc989db",
      "2d71b6d958b841dca9c4291702350057",
      "3720b6b129134288b669307642f71d72",
      "64289ff043e44311a36d880bee4b7632",
      "23b9cc5ccefc42ba90c184e4b1a0f180",
      "e07af17b025f444c8688ef12c3764ad9",
      "5f1cdc8eca8842919d7d9a5e96419032",
      "3be30862cf01437fac4f75be7f6a6e84",
      "bfcff848e8b14b30aa5783fd5b972db1",
      "cc6e6ac33180458b815441a6c9f80979",
      "9a15f0828fe44edf88d66c8f0ae2682e",
      "8b7445b178d74a858ddbf99cf952588c",
      "50286545d6354739a53d32f25d2ae595",
      "ee635c96900a4e519db06bb16cb6e7cc",
      "b32d93b6bbea4a5797c3e4a9de633638",
      "4285088f955d4077accbd5929057c9a8",
      "650fc5064d2144b593002548489fc4eb",
      "8e5b9ef5cff44f79ac0a0c3fb2e1515a",
      "48806f212b324ec485852a38110a18bb",
      "45ff25b70c27479c901c238c45da3e71",
      "7a698e97143841d38b522399f8645e3f",
      "062e7c9d36d44600abd5dfaf9206a11a",
      "884b3e43f33744458dfce2c061f89458",
      "f8c11ce24f354182aec7da17bae4876c",
      "400387b7caec4fa3bd9e46c7e1e450d3",
      "1ed25326790c4fa188104d3cd0522d95",
      "520c8f9c88904734965eadda72457ba5",
      "a1fb6251fd5c4c4a95ffb313ab770b6d",
      "415b56057f174fb787d22ed4917033b0",
      "1ffd5265ec20408faad90e9fe71b992f",
      "0cdc31f0b7f84d5b8362b253c9a6e856",
      "cede3a208a0441a598475b37aa0ca535",
      "0329e0fc05e24fca88ec42b49579666e",
      "9248ff3f6d944296bee466c54c55e05e",
      "75a0332eb06a4bdb91e240456595315e",
      "138069b5c4a54b528b5700425617b284",
      "84e1d1af3ee2474892884efa3ccb8d71",
      "518012b48d38462b9d5ea3fdedbd7a98",
      "520b69415411436d8a3d74626a5a9757",
      "38f6aa55735f4cef91a60c59edb5dfa1",
      "601e596b6c2a4a88abee2eac6d17011b",
      "e62270953c0b4049a4d89ef48e04ee59",
      "943fd58aea594fb59a3414108d7b122b",
      "938f411360b949f7b8fa67b184fe9f5e",
      "af276a4a926a4406ac13c5129c168dc5",
      "5eba6adb73b44b79a5142694f5e52b43",
      "d17136141e7e4558ab335a5af6d427f0",
      "dc8de3f187e64501a1d53c5c872516c5",
      "9af563aafb264fb0a579c01d26559f31",
      "a6d648ce1506404786610b27c1720341",
      "082ace3d9c9340db84e453e5f2c64a3c",
      "35058e41c1144e5388b834105933ad3e",
      "6f7df95522aa49fa90d6519085b200d3",
      "b76e2814658842b8a69d32f059d4a889",
      "d6e93fb2172b4e1d8f6bace793ddfa82",
      "2284772568914e5cb0fb1cb388c9ea7e",
      "1139176e471a40f6ad594f24a4fc9eff",
      "ea3817c54b874c90b758851f0e4587d8",
      "effdbc2a1910417d8357a4359370698e",
      "f27ae3c953494205b19c00711f0ced84"
     ]
    },
    "collapsed": true,
    "executionInfo": {
     "elapsed": 116398,
     "status": "ok",
     "timestamp": 1759330945869,
     "user": {
      "displayName": "Svitlana Lisovych",
      "userId": "17285269011352565255"
     },
     "user_tz": -120
    },
    "id": "lzwmS1ZsuLEo",
    "outputId": "65ba7862-f050-4b1b-c4e2-fe87d590e743"
   },
   "outputs": [
    {
     "name": "stderr",
     "output_type": "stream",
     "text": [
      "/usr/local/lib/python3.12/dist-packages/huggingface_hub/utils/_auth.py:94: UserWarning: \n",
      "The secret `HF_TOKEN` does not exist in your Colab secrets.\n",
      "To authenticate with the Hugging Face Hub, create a token in your settings tab (https://huggingface.co/settings/tokens), set it as secret in your Google Colab and restart your session.\n",
      "You will be able to reuse this secret in all of your notebooks.\n",
      "Please note that authentication is recommended but still optional to access public models or datasets.\n",
      "  warnings.warn(\n"
     ]
    },
    {
     "data": {
      "application/vnd.jupyter.widget-view+json": {
       "model_id": "60aec9069bf84c9a8080e6ea050d6c6e",
       "version_major": 2,
       "version_minor": 0
      },
      "text/plain": [
       "tokenizer_config.json:   0%|          | 0.00/48.0 [00:00<?, ?B/s]"
      ]
     },
     "metadata": {},
     "output_type": "display_data"
    },
    {
     "data": {
      "application/vnd.jupyter.widget-view+json": {
       "model_id": "1370851c589041a4a8c79ffd20aff297",
       "version_major": 2,
       "version_minor": 0
      },
      "text/plain": [
       "config.json:   0%|          | 0.00/570 [00:00<?, ?B/s]"
      ]
     },
     "metadata": {},
     "output_type": "display_data"
    },
    {
     "data": {
      "application/vnd.jupyter.widget-view+json": {
       "model_id": "f4e7d192246c42b6b28ca2fd2519d653",
       "version_major": 2,
       "version_minor": 0
      },
      "text/plain": [
       "vocab.txt: 0.00B [00:00, ?B/s]"
      ]
     },
     "metadata": {},
     "output_type": "display_data"
    },
    {
     "data": {
      "application/vnd.jupyter.widget-view+json": {
       "model_id": "3ae864cb321e4481b8e77d01d0484add",
       "version_major": 2,
       "version_minor": 0
      },
      "text/plain": [
       "tokenizer.json: 0.00B [00:00, ?B/s]"
      ]
     },
     "metadata": {},
     "output_type": "display_data"
    },
    {
     "data": {
      "application/vnd.jupyter.widget-view+json": {
       "model_id": "bef3d92c0be34a09b52f73c3272248ac",
       "version_major": 2,
       "version_minor": 0
      },
      "text/plain": [
       "Casting the dataset:   0%|          | 0/31280 [00:00<?, ? examples/s]"
      ]
     },
     "metadata": {},
     "output_type": "display_data"
    },
    {
     "data": {
      "application/vnd.jupyter.widget-view+json": {
       "model_id": "e07af17b025f444c8688ef12c3764ad9",
       "version_major": 2,
       "version_minor": 0
      },
      "text/plain": [
       "Casting the dataset:   0%|          | 0/3910 [00:00<?, ? examples/s]"
      ]
     },
     "metadata": {},
     "output_type": "display_data"
    },
    {
     "data": {
      "application/vnd.jupyter.widget-view+json": {
       "model_id": "650fc5064d2144b593002548489fc4eb",
       "version_major": 2,
       "version_minor": 0
      },
      "text/plain": [
       "Casting the dataset:   0%|          | 0/3910 [00:00<?, ? examples/s]"
      ]
     },
     "metadata": {},
     "output_type": "display_data"
    },
    {
     "data": {
      "application/vnd.jupyter.widget-view+json": {
       "model_id": "a1fb6251fd5c4c4a95ffb313ab770b6d",
       "version_major": 2,
       "version_minor": 0
      },
      "text/plain": [
       "Map:   0%|          | 0/31280 [00:00<?, ? examples/s]"
      ]
     },
     "metadata": {},
     "output_type": "display_data"
    },
    {
     "data": {
      "application/vnd.jupyter.widget-view+json": {
       "model_id": "520b69415411436d8a3d74626a5a9757",
       "version_major": 2,
       "version_minor": 0
      },
      "text/plain": [
       "Map:   0%|          | 0/3910 [00:00<?, ? examples/s]"
      ]
     },
     "metadata": {},
     "output_type": "display_data"
    },
    {
     "data": {
      "application/vnd.jupyter.widget-view+json": {
       "model_id": "a6d648ce1506404786610b27c1720341",
       "version_major": 2,
       "version_minor": 0
      },
      "text/plain": [
       "Map:   0%|          | 0/3910 [00:00<?, ? examples/s]"
      ]
     },
     "metadata": {},
     "output_type": "display_data"
    },
    {
     "data": {
      "text/plain": [
       "{'labels': tensor([0, 0]),\n",
       " 'input_ids': tensor([[  101, 27604,  1011,  2091,  8398,  2515,  2025,  2812,  7822,  2013,\n",
       "           3343,  1024, 14895,   102,  1006, 26665,  1007,  1011,  1037,  4872,\n",
       "           2008,  1057,  1012,  1055,  1012,  3951,  2392,  1011,  5479,  6221,\n",
       "           8398,  2097, 11092,  1037,  2062,  4883,  3049,  2806,  2515,  2025,\n",
       "           4742,  1037,  7822,  2013,  4563,  6043,  2107,  2004,  2010, 16393,\n",
       "           2000,  3857,  1037,  2813,  2006,  1996,  4916,  3675,  1010,  2010,\n",
       "           2327, 11747,  2056,  2006,  4465,  1012,  3026,  8398, 14895,  2703,\n",
       "          24951, 13028,  7219,  6538,  3951,  4018,  6945,  8096,  1521,  1055,\n",
       "          19238,  2008,  1996,  2613,  3776,  9587, 24848,  2018,  9828,  2055,\n",
       "           2010,  6043,  2006,  7521,  2000,  1523,  7966, 19739,  6894,  3468,\n",
       "           7206,  1012,  1524,  1996, 10722,  4757,  2571,  2058,  8398,  1521,\n",
       "           1055,  2806,  1998,  9415, 11677,  9857,  1521,  1055,  3951,  1998,\n",
       "           3537,  2053, 27932, 15795,  1999,  3552,  1998,   102],\n",
       "         [  101,  8398,  2886,  2006, 17646,  3235, 18921,  7377,  3527,  9333,\n",
       "           2162,  2006,  3639,  3068,   102,  5862,  1006, 26665,  1007,  1011,\n",
       "           6221,  8398,  2006,  6928,  8723,  2010,  2886,  2006,  3639, 16728,\n",
       "           1010, 15209, 17646,  3235, 13058,  1521,  1055,  1006,  1048, 20492,\n",
       "           1012,  1050,  1007,  1042,  1011,  3486,  4959,  6892,  2565,  2004,\n",
       "           2205,  6450,  2004, 14895,  2015,  2000,  1996,  2343,  1011, 11322,\n",
       "           2056,  2002, 18754,  2000,  2562,  6183,  2000,  3013,  1996,  5366,\n",
       "           1997,  2510,  8051,  1012,  8398,  1521,  1055,  6745, 10474,  5041,\n",
       "           7363,  2741,  3639,  6661, 21552,  1998,  5470,  7228,  5936,  2008,\n",
       "           1996, 14932,  3447,  2097,  5547,  3639, 16728,  1521,  5618, 17034,\n",
       "           1998,  3013, 12368,  2976,  5938,  1010,  8701,  1057,  1012,  1055,\n",
       "           1012,  4713,  5841,  2130,  2004,  8398, 10659,  2000, 12992,  5814,\n",
       "           6107,  1012,  1523,  1996,  1042,  1011,  3486,   102]]),\n",
       " 'token_type_ids': tensor([[0, 0, 0, 0, 0, 0, 0, 0, 0, 0, 0, 0, 0, 0, 0, 0, 0, 0, 0, 0, 0, 0, 0, 0,\n",
       "          0, 0, 0, 0, 0, 0, 0, 0, 0, 0, 0, 0, 0, 0, 0, 0, 0, 0, 0, 0, 0, 0, 0, 0,\n",
       "          0, 0, 0, 0, 0, 0, 0, 0, 0, 0, 0, 0, 0, 0, 0, 0, 0, 0, 0, 0, 0, 0, 0, 0,\n",
       "          0, 0, 0, 0, 0, 0, 0, 0, 0, 0, 0, 0, 0, 0, 0, 0, 0, 0, 0, 0, 0, 0, 0, 0,\n",
       "          0, 0, 0, 0, 0, 0, 0, 0, 0, 0, 0, 0, 0, 0, 0, 0, 0, 0, 0, 0, 0, 0, 0, 0,\n",
       "          0, 0, 0, 0, 0, 0, 0, 0],\n",
       "         [0, 0, 0, 0, 0, 0, 0, 0, 0, 0, 0, 0, 0, 0, 0, 0, 0, 0, 0, 0, 0, 0, 0, 0,\n",
       "          0, 0, 0, 0, 0, 0, 0, 0, 0, 0, 0, 0, 0, 0, 0, 0, 0, 0, 0, 0, 0, 0, 0, 0,\n",
       "          0, 0, 0, 0, 0, 0, 0, 0, 0, 0, 0, 0, 0, 0, 0, 0, 0, 0, 0, 0, 0, 0, 0, 0,\n",
       "          0, 0, 0, 0, 0, 0, 0, 0, 0, 0, 0, 0, 0, 0, 0, 0, 0, 0, 0, 0, 0, 0, 0, 0,\n",
       "          0, 0, 0, 0, 0, 0, 0, 0, 0, 0, 0, 0, 0, 0, 0, 0, 0, 0, 0, 0, 0, 0, 0, 0,\n",
       "          0, 0, 0, 0, 0, 0, 0, 0]]),\n",
       " 'attention_mask': tensor([[1, 1, 1, 1, 1, 1, 1, 1, 1, 1, 1, 1, 1, 1, 1, 1, 1, 1, 1, 1, 1, 1, 1, 1,\n",
       "          1, 1, 1, 1, 1, 1, 1, 1, 1, 1, 1, 1, 1, 1, 1, 1, 1, 1, 1, 1, 1, 1, 1, 1,\n",
       "          1, 1, 1, 1, 1, 1, 1, 1, 1, 1, 1, 1, 1, 1, 1, 1, 1, 1, 1, 1, 1, 1, 1, 1,\n",
       "          1, 1, 1, 1, 1, 1, 1, 1, 1, 1, 1, 1, 1, 1, 1, 1, 1, 1, 1, 1, 1, 1, 1, 1,\n",
       "          1, 1, 1, 1, 1, 1, 1, 1, 1, 1, 1, 1, 1, 1, 1, 1, 1, 1, 1, 1, 1, 1, 1, 1,\n",
       "          1, 1, 1, 1, 1, 1, 1, 1],\n",
       "         [1, 1, 1, 1, 1, 1, 1, 1, 1, 1, 1, 1, 1, 1, 1, 1, 1, 1, 1, 1, 1, 1, 1, 1,\n",
       "          1, 1, 1, 1, 1, 1, 1, 1, 1, 1, 1, 1, 1, 1, 1, 1, 1, 1, 1, 1, 1, 1, 1, 1,\n",
       "          1, 1, 1, 1, 1, 1, 1, 1, 1, 1, 1, 1, 1, 1, 1, 1, 1, 1, 1, 1, 1, 1, 1, 1,\n",
       "          1, 1, 1, 1, 1, 1, 1, 1, 1, 1, 1, 1, 1, 1, 1, 1, 1, 1, 1, 1, 1, 1, 1, 1,\n",
       "          1, 1, 1, 1, 1, 1, 1, 1, 1, 1, 1, 1, 1, 1, 1, 1, 1, 1, 1, 1, 1, 1, 1, 1,\n",
       "          1, 1, 1, 1, 1, 1, 1, 1]])}"
      ]
     },
     "execution_count": 6,
     "metadata": {},
     "output_type": "execute_result"
    }
   ],
   "source": [
    "# Tokenizer + HF Datasets\n",
    "\n",
    "model_path = \"google-bert/bert-base-uncased\"\n",
    "max_len = 128\n",
    "\n",
    "tokenizer = AutoTokenizer.from_pretrained(model_path)\n",
    "\n",
    "train_ds = Dataset.from_dict({\"text\": X_train, \"labels\": y_train})\n",
    "val_ds   = Dataset.from_dict({\"text\": X_val,   \"labels\": y_val})\n",
    "test_ds  = Dataset.from_dict({\"text\": X_test,  \"labels\": y_test})\n",
    "\n",
    "# ensure int64 type for labels\n",
    "train_ds = train_ds.cast_column(\"labels\", Value(\"int64\"))\n",
    "val_ds   = val_ds.cast_column(\"labels\",   Value(\"int64\"))\n",
    "test_ds  = test_ds.cast_column(\"labels\",  Value(\"int64\"))\n",
    "\n",
    "# Define text preprocessing\n",
    "def preprocess_function(examples):\n",
    "    return tokenizer(examples[\"text\"], truncation=True, max_length=max_len)\n",
    "\n",
    "train_tok = train_ds.map(preprocess_function, batched=True, remove_columns=[\"text\"])\n",
    "val_tok   = val_ds.map(preprocess_function,   batched=True, remove_columns=[\"text\"])\n",
    "test_tok  = test_ds.map(preprocess_function,  batched=True, remove_columns=[\"text\"])\n",
    "\n",
    "train_tok.set_format(type=\"torch\")\n",
    "val_tok.set_format(type=\"torch\")\n",
    "test_tok.set_format(type=\"torch\")\n",
    "\n",
    "train_tok[:2]"
   ]
  },
  {
   "cell_type": "code",
   "execution_count": 7,
   "metadata": {
    "executionInfo": {
     "elapsed": 10,
     "status": "ok",
     "timestamp": 1759330945892,
     "user": {
      "displayName": "Svitlana Lisovych",
      "userId": "17285269011352565255"
     },
     "user_tz": -120
    },
    "id": "O9ncDIt_Wgh6"
   },
   "outputs": [],
   "source": [
    "# Create data collator: dynamically pads sequences in a batch to the same length\n",
    "data_collator = DataCollatorWithPadding(tokenizer=tokenizer)"
   ]
  },
  {
   "cell_type": "code",
   "execution_count": 8,
   "metadata": {
    "colab": {
     "base_uri": "https://localhost:8080/",
     "height": 104,
     "referenced_widgets": [
      "f4b87e632c664ce088d6a2b3c0a16b9a",
      "0b267d1a5d344c428e55134902e23486",
      "720b13db745b4019853e74b0d5695ea9",
      "aed4eec8b7f74f2287383bebe4c4d7d8",
      "45995549910148e491975fd15c39dd57",
      "885a714c2fb346bfa2018f523ebf0b1d",
      "c7f5926615044b92a6cbc6028fe6e375",
      "45df8c6714654aaca26e475021cab91a",
      "e8bfc8c565054c9c9e1f4a3fab39ae50",
      "8d463553d6f944f985ac98670da8a522",
      "99637f1056ba481b8d0087240fdd887f"
     ]
    },
    "executionInfo": {
     "elapsed": 19241,
     "status": "ok",
     "timestamp": 1759330965128,
     "user": {
      "displayName": "Svitlana Lisovych",
      "userId": "17285269011352565255"
     },
     "user_tz": -120
    },
    "id": "d6sVJkMTp86s",
    "outputId": "ebce4984-854f-4e4a-aad8-8b3baad0ff2c"
   },
   "outputs": [
    {
     "data": {
      "application/vnd.jupyter.widget-view+json": {
       "model_id": "f4b87e632c664ce088d6a2b3c0a16b9a",
       "version_major": 2,
       "version_minor": 0
      },
      "text/plain": [
       "model.safetensors:   0%|          | 0.00/440M [00:00<?, ?B/s]"
      ]
     },
     "metadata": {},
     "output_type": "display_data"
    },
    {
     "name": "stderr",
     "output_type": "stream",
     "text": [
      "Some weights of BertForSequenceClassification were not initialized from the model checkpoint at google-bert/bert-base-uncased and are newly initialized: ['classifier.bias', 'classifier.weight']\n",
      "You should probably TRAIN this model on a down-stream task to be able to use it for predictions and inference.\n"
     ]
    }
   ],
   "source": [
    "# Define label mappings and load pre-trained model for binary classification\n",
    "id2label = {0: \"REAL\", 1: \"FAKE\"}\n",
    "label2id = {\"REAL\": 0, \"FAKE\": 1}\n",
    "\n",
    "model = AutoModelForSequenceClassification.from_pretrained(\n",
    "    model_path, num_labels=2, id2label=id2label, label2id=label2id\n",
    ")"
   ]
  },
  {
   "cell_type": "code",
   "execution_count": 9,
   "metadata": {
    "executionInfo": {
     "elapsed": 5,
     "status": "ok",
     "timestamp": 1759330965135,
     "user": {
      "displayName": "Svitlana Lisovych",
      "userId": "17285269011352565255"
     },
     "user_tz": -120
    },
    "id": "yep4teEKsLHG"
   },
   "outputs": [],
   "source": [
    "# Metrics\n",
    "def compute_metrics(eval_pred):\n",
    "    \"\"\"\n",
    "    Compute F1 (macro, weighted) and accuracy\n",
    "    from model predictions and true labels.\n",
    "    \"\"\"\n",
    "    logits, labels = eval_pred\n",
    "    preds = logits.argmax(axis=1)\n",
    "    return {\n",
    "        \"f1_macro\":    f1_score(labels, preds, average=\"macro\"),\n",
    "        \"f1_weighted\": f1_score(labels, preds, average=\"weighted\"),\n",
    "        \"accuracy\":    (preds == labels).mean(),\n",
    "    }\n"
   ]
  },
  {
   "cell_type": "code",
   "execution_count": 10,
   "metadata": {
    "colab": {
     "base_uri": "https://localhost:8080/",
     "height": 363
    },
    "executionInfo": {
     "elapsed": 1114843,
     "status": "ok",
     "timestamp": 1759332079982,
     "user": {
      "displayName": "Svitlana Lisovych",
      "userId": "17285269011352565255"
     },
     "user_tz": -120
    },
    "id": "QwZSnVw7sbzb",
    "outputId": "ad34ac2b-4d29-4327-cebd-d8d6837ff4c3"
   },
   "outputs": [
    {
     "name": "stderr",
     "output_type": "stream",
     "text": [
      "/tmp/ipython-input-3973321098.py:28: FutureWarning: `tokenizer` is deprecated and will be removed in version 5.0.0 for `Trainer.__init__`. Use `processing_class` instead.\n",
      "  trainer = Trainer(\n"
     ]
    },
    {
     "data": {
      "text/html": [
       "\n",
       "    <div>\n",
       "      \n",
       "      <progress value='11730' max='15640' style='width:300px; height:20px; vertical-align: middle;'></progress>\n",
       "      [11730/15640 18:26 < 06:08, 10.60 it/s, Epoch 3/4]\n",
       "    </div>\n",
       "    <table border=\"1\" class=\"dataframe\">\n",
       "  <thead>\n",
       " <tr style=\"text-align: left;\">\n",
       "      <th>Epoch</th>\n",
       "      <th>Training Loss</th>\n",
       "      <th>Validation Loss</th>\n",
       "      <th>F1 Macro</th>\n",
       "      <th>F1 Weighted</th>\n",
       "      <th>Accuracy</th>\n",
       "    </tr>\n",
       "  </thead>\n",
       "  <tbody>\n",
       "    <tr>\n",
       "      <td>1</td>\n",
       "      <td>0.038200</td>\n",
       "      <td>0.006112</td>\n",
       "      <td>0.999227</td>\n",
       "      <td>0.999233</td>\n",
       "      <td>0.999233</td>\n",
       "    </tr>\n",
       "    <tr>\n",
       "      <td>2</td>\n",
       "      <td>0.002400</td>\n",
       "      <td>0.005377</td>\n",
       "      <td>0.999485</td>\n",
       "      <td>0.999489</td>\n",
       "      <td>0.999488</td>\n",
       "    </tr>\n",
       "    <tr>\n",
       "      <td>3</td>\n",
       "      <td>0.002300</td>\n",
       "      <td>0.004372</td>\n",
       "      <td>0.999485</td>\n",
       "      <td>0.999489</td>\n",
       "      <td>0.999488</td>\n",
       "    </tr>\n",
       "  </tbody>\n",
       "</table><p>"
      ],
      "text/plain": [
       "<IPython.core.display.HTML object>"
      ]
     },
     "metadata": {},
     "output_type": "display_data"
    },
    {
     "data": {
      "text/html": [
       "\n",
       "    <div>\n",
       "      \n",
       "      <progress value='123' max='123' style='width:300px; height:20px; vertical-align: middle;'></progress>\n",
       "      [123/123 00:06]\n",
       "    </div>\n",
       "    "
      ],
      "text/plain": [
       "<IPython.core.display.HTML object>"
      ]
     },
     "metadata": {},
     "output_type": "display_data"
    },
    {
     "data": {
      "text/plain": [
       "{'eval_loss': 0.005377208814024925,\n",
       " 'eval_f1_macro': 0.9994849103770403,\n",
       " 'eval_f1_weighted': 0.9994885130159035,\n",
       " 'eval_accuracy': 0.9994884910485934,\n",
       " 'eval_runtime': 6.924,\n",
       " 'eval_samples_per_second': 564.701,\n",
       " 'eval_steps_per_second': 17.764,\n",
       " 'epoch': 3.0}"
      ]
     },
     "execution_count": 10,
     "metadata": {},
     "output_type": "execute_result"
    }
   ],
   "source": [
    "# Trainer setup\n",
    "\n",
    "lr = 2e-5          # learning rate\n",
    "batch_size = 8     # batch size\n",
    "num_epochs = 4     # number of training epochs\n",
    "\n",
    "args = TrainingArguments(\n",
    "    output_dir=\"./bert_out\",                # output directory\n",
    "    learning_rate=lr,\n",
    "    per_device_train_batch_size=batch_size,\n",
    "    per_device_eval_batch_size=batch_size*4,\n",
    "    num_train_epochs=num_epochs,\n",
    "    logging_strategy=\"epoch\",               # log each epoch\n",
    "    eval_strategy=\"epoch\",                  # evaluate each epoch\n",
    "    save_strategy=\"epoch\",                  # save each epoch\n",
    "    load_best_model_at_end=True,            # restore best model\n",
    "    metric_for_best_model=\"f1_macro\",       # use F1-macro for checkpointing\n",
    "    greater_is_better=True,\n",
    "    warmup_ratio=0.1,                       # warm-up phase\n",
    "    weight_decay=0.01,                      # regularization\n",
    "    fp16=True,                              # mixed precision\n",
    "    save_total_limit=2,                     # keep last 2 checkpoints\n",
    "    max_grad_norm=1.0,                      # gradient clipping\n",
    "    report_to=\"none\",                       # no external logging\n",
    "    seed=SEED,                              # reproducibility\n",
    ")\n",
    "\n",
    "trainer = Trainer(\n",
    "    model=model,                 # BERT model\n",
    "    args=args,                   # training config\n",
    "    train_dataset=train_tok,     # training set\n",
    "    eval_dataset=val_tok,        # validation set\n",
    "    tokenizer=tokenizer,         # tokenizer\n",
    "    data_collator=data_collator, # batch padding\n",
    "    compute_metrics=compute_metrics,\n",
    "    callbacks=[EarlyStoppingCallback(early_stopping_patience=1)] # early stopping\n",
    ")\n",
    "\n",
    "# Train and evaluate\n",
    "trainer.train()\n",
    "val_metrics = trainer.evaluate()\n",
    "val_metrics\n"
   ]
  },
  {
   "cell_type": "code",
   "execution_count": 11,
   "metadata": {
    "colab": {
     "base_uri": "https://localhost:8080/",
     "height": 299
    },
    "executionInfo": {
     "elapsed": 7118,
     "status": "ok",
     "timestamp": 1759332087139,
     "user": {
      "displayName": "Svitlana Lisovych",
      "userId": "17285269011352565255"
     },
     "user_tz": -120
    },
    "id": "bCHFZECMfs_U",
    "outputId": "0641dfd1-7787-403b-81df-f9af1574a490"
   },
   "outputs": [
    {
     "data": {
      "text/html": [],
      "text/plain": [
       "<IPython.core.display.HTML object>"
      ]
     },
     "metadata": {},
     "output_type": "display_data"
    },
    {
     "name": "stdout",
     "output_type": "stream",
     "text": [
      "TEST | F1-macro: 0.999485\n",
      "              precision    recall  f1-score   support\n",
      "\n",
      "     real(0)      1.000     0.999     1.000      2120\n",
      "     fake(1)      0.999     1.000     0.999      1790\n",
      "\n",
      "    accuracy                          0.999      3910\n",
      "   macro avg      0.999     1.000     0.999      3910\n",
      "weighted avg      0.999     0.999     0.999      3910\n",
      "\n"
     ]
    },
    {
     "data": {
      "application/vnd.google.colaboratory.intrinsic+json": {
       "summary": "{\n  \"name\": \"cm_test\",\n  \"rows\": 2,\n  \"fields\": [\n    {\n      \"column\": \"pred_real(0)\",\n      \"properties\": {\n        \"dtype\": \"number\",\n        \"std\": 1497,\n        \"min\": 0,\n        \"max\": 2118,\n        \"num_unique_values\": 2,\n        \"samples\": [\n          0,\n          2118\n        ],\n        \"semantic_type\": \"\",\n        \"description\": \"\"\n      }\n    },\n    {\n      \"column\": \"pred_fake(1)\",\n      \"properties\": {\n        \"dtype\": \"number\",\n        \"std\": 1264,\n        \"min\": 2,\n        \"max\": 1790,\n        \"num_unique_values\": 2,\n        \"samples\": [\n          1790,\n          2\n        ],\n        \"semantic_type\": \"\",\n        \"description\": \"\"\n      }\n    }\n  ]\n}",
       "type": "dataframe",
       "variable_name": "cm_test"
      },
      "text/html": [
       "\n",
       "  <div id=\"df-49384174-6312-457e-b08a-562ecacf5efb\" class=\"colab-df-container\">\n",
       "    <div>\n",
       "<style scoped>\n",
       "    .dataframe tbody tr th:only-of-type {\n",
       "        vertical-align: middle;\n",
       "    }\n",
       "\n",
       "    .dataframe tbody tr th {\n",
       "        vertical-align: top;\n",
       "    }\n",
       "\n",
       "    .dataframe thead th {\n",
       "        text-align: right;\n",
       "    }\n",
       "</style>\n",
       "<table border=\"1\" class=\"dataframe\">\n",
       "  <thead>\n",
       "    <tr style=\"text-align: right;\">\n",
       "      <th></th>\n",
       "      <th>pred_real(0)</th>\n",
       "      <th>pred_fake(1)</th>\n",
       "    </tr>\n",
       "  </thead>\n",
       "  <tbody>\n",
       "    <tr>\n",
       "      <th>real(0)</th>\n",
       "      <td>2118</td>\n",
       "      <td>2</td>\n",
       "    </tr>\n",
       "    <tr>\n",
       "      <th>fake(1)</th>\n",
       "      <td>0</td>\n",
       "      <td>1790</td>\n",
       "    </tr>\n",
       "  </tbody>\n",
       "</table>\n",
       "</div>\n",
       "    <div class=\"colab-df-buttons\">\n",
       "\n",
       "  <div class=\"colab-df-container\">\n",
       "    <button class=\"colab-df-convert\" onclick=\"convertToInteractive('df-49384174-6312-457e-b08a-562ecacf5efb')\"\n",
       "            title=\"Convert this dataframe to an interactive table.\"\n",
       "            style=\"display:none;\">\n",
       "\n",
       "  <svg xmlns=\"http://www.w3.org/2000/svg\" height=\"24px\" viewBox=\"0 -960 960 960\">\n",
       "    <path d=\"M120-120v-720h720v720H120Zm60-500h600v-160H180v160Zm220 220h160v-160H400v160Zm0 220h160v-160H400v160ZM180-400h160v-160H180v160Zm440 0h160v-160H620v160ZM180-180h160v-160H180v160Zm440 0h160v-160H620v160Z\"/>\n",
       "  </svg>\n",
       "    </button>\n",
       "\n",
       "  <style>\n",
       "    .colab-df-container {\n",
       "      display:flex;\n",
       "      gap: 12px;\n",
       "    }\n",
       "\n",
       "    .colab-df-convert {\n",
       "      background-color: #E8F0FE;\n",
       "      border: none;\n",
       "      border-radius: 50%;\n",
       "      cursor: pointer;\n",
       "      display: none;\n",
       "      fill: #1967D2;\n",
       "      height: 32px;\n",
       "      padding: 0 0 0 0;\n",
       "      width: 32px;\n",
       "    }\n",
       "\n",
       "    .colab-df-convert:hover {\n",
       "      background-color: #E2EBFA;\n",
       "      box-shadow: 0px 1px 2px rgba(60, 64, 67, 0.3), 0px 1px 3px 1px rgba(60, 64, 67, 0.15);\n",
       "      fill: #174EA6;\n",
       "    }\n",
       "\n",
       "    .colab-df-buttons div {\n",
       "      margin-bottom: 4px;\n",
       "    }\n",
       "\n",
       "    [theme=dark] .colab-df-convert {\n",
       "      background-color: #3B4455;\n",
       "      fill: #D2E3FC;\n",
       "    }\n",
       "\n",
       "    [theme=dark] .colab-df-convert:hover {\n",
       "      background-color: #434B5C;\n",
       "      box-shadow: 0px 1px 3px 1px rgba(0, 0, 0, 0.15);\n",
       "      filter: drop-shadow(0px 1px 2px rgba(0, 0, 0, 0.3));\n",
       "      fill: #FFFFFF;\n",
       "    }\n",
       "  </style>\n",
       "\n",
       "    <script>\n",
       "      const buttonEl =\n",
       "        document.querySelector('#df-49384174-6312-457e-b08a-562ecacf5efb button.colab-df-convert');\n",
       "      buttonEl.style.display =\n",
       "        google.colab.kernel.accessAllowed ? 'block' : 'none';\n",
       "\n",
       "      async function convertToInteractive(key) {\n",
       "        const element = document.querySelector('#df-49384174-6312-457e-b08a-562ecacf5efb');\n",
       "        const dataTable =\n",
       "          await google.colab.kernel.invokeFunction('convertToInteractive',\n",
       "                                                    [key], {});\n",
       "        if (!dataTable) return;\n",
       "\n",
       "        const docLinkHtml = 'Like what you see? Visit the ' +\n",
       "          '<a target=\"_blank\" href=https://colab.research.google.com/notebooks/data_table.ipynb>data table notebook</a>'\n",
       "          + ' to learn more about interactive tables.';\n",
       "        element.innerHTML = '';\n",
       "        dataTable['output_type'] = 'display_data';\n",
       "        await google.colab.output.renderOutput(dataTable, element);\n",
       "        const docLink = document.createElement('div');\n",
       "        docLink.innerHTML = docLinkHtml;\n",
       "        element.appendChild(docLink);\n",
       "      }\n",
       "    </script>\n",
       "  </div>\n",
       "\n",
       "\n",
       "    <div id=\"df-533180d3-4a57-4c30-af5b-df8e419348f1\">\n",
       "      <button class=\"colab-df-quickchart\" onclick=\"quickchart('df-533180d3-4a57-4c30-af5b-df8e419348f1')\"\n",
       "                title=\"Suggest charts\"\n",
       "                style=\"display:none;\">\n",
       "\n",
       "<svg xmlns=\"http://www.w3.org/2000/svg\" height=\"24px\"viewBox=\"0 0 24 24\"\n",
       "     width=\"24px\">\n",
       "    <g>\n",
       "        <path d=\"M19 3H5c-1.1 0-2 .9-2 2v14c0 1.1.9 2 2 2h14c1.1 0 2-.9 2-2V5c0-1.1-.9-2-2-2zM9 17H7v-7h2v7zm4 0h-2V7h2v10zm4 0h-2v-4h2v4z\"/>\n",
       "    </g>\n",
       "</svg>\n",
       "      </button>\n",
       "\n",
       "<style>\n",
       "  .colab-df-quickchart {\n",
       "      --bg-color: #E8F0FE;\n",
       "      --fill-color: #1967D2;\n",
       "      --hover-bg-color: #E2EBFA;\n",
       "      --hover-fill-color: #174EA6;\n",
       "      --disabled-fill-color: #AAA;\n",
       "      --disabled-bg-color: #DDD;\n",
       "  }\n",
       "\n",
       "  [theme=dark] .colab-df-quickchart {\n",
       "      --bg-color: #3B4455;\n",
       "      --fill-color: #D2E3FC;\n",
       "      --hover-bg-color: #434B5C;\n",
       "      --hover-fill-color: #FFFFFF;\n",
       "      --disabled-bg-color: #3B4455;\n",
       "      --disabled-fill-color: #666;\n",
       "  }\n",
       "\n",
       "  .colab-df-quickchart {\n",
       "    background-color: var(--bg-color);\n",
       "    border: none;\n",
       "    border-radius: 50%;\n",
       "    cursor: pointer;\n",
       "    display: none;\n",
       "    fill: var(--fill-color);\n",
       "    height: 32px;\n",
       "    padding: 0;\n",
       "    width: 32px;\n",
       "  }\n",
       "\n",
       "  .colab-df-quickchart:hover {\n",
       "    background-color: var(--hover-bg-color);\n",
       "    box-shadow: 0 1px 2px rgba(60, 64, 67, 0.3), 0 1px 3px 1px rgba(60, 64, 67, 0.15);\n",
       "    fill: var(--button-hover-fill-color);\n",
       "  }\n",
       "\n",
       "  .colab-df-quickchart-complete:disabled,\n",
       "  .colab-df-quickchart-complete:disabled:hover {\n",
       "    background-color: var(--disabled-bg-color);\n",
       "    fill: var(--disabled-fill-color);\n",
       "    box-shadow: none;\n",
       "  }\n",
       "\n",
       "  .colab-df-spinner {\n",
       "    border: 2px solid var(--fill-color);\n",
       "    border-color: transparent;\n",
       "    border-bottom-color: var(--fill-color);\n",
       "    animation:\n",
       "      spin 1s steps(1) infinite;\n",
       "  }\n",
       "\n",
       "  @keyframes spin {\n",
       "    0% {\n",
       "      border-color: transparent;\n",
       "      border-bottom-color: var(--fill-color);\n",
       "      border-left-color: var(--fill-color);\n",
       "    }\n",
       "    20% {\n",
       "      border-color: transparent;\n",
       "      border-left-color: var(--fill-color);\n",
       "      border-top-color: var(--fill-color);\n",
       "    }\n",
       "    30% {\n",
       "      border-color: transparent;\n",
       "      border-left-color: var(--fill-color);\n",
       "      border-top-color: var(--fill-color);\n",
       "      border-right-color: var(--fill-color);\n",
       "    }\n",
       "    40% {\n",
       "      border-color: transparent;\n",
       "      border-right-color: var(--fill-color);\n",
       "      border-top-color: var(--fill-color);\n",
       "    }\n",
       "    60% {\n",
       "      border-color: transparent;\n",
       "      border-right-color: var(--fill-color);\n",
       "    }\n",
       "    80% {\n",
       "      border-color: transparent;\n",
       "      border-right-color: var(--fill-color);\n",
       "      border-bottom-color: var(--fill-color);\n",
       "    }\n",
       "    90% {\n",
       "      border-color: transparent;\n",
       "      border-bottom-color: var(--fill-color);\n",
       "    }\n",
       "  }\n",
       "</style>\n",
       "\n",
       "      <script>\n",
       "        async function quickchart(key) {\n",
       "          const quickchartButtonEl =\n",
       "            document.querySelector('#' + key + ' button');\n",
       "          quickchartButtonEl.disabled = true;  // To prevent multiple clicks.\n",
       "          quickchartButtonEl.classList.add('colab-df-spinner');\n",
       "          try {\n",
       "            const charts = await google.colab.kernel.invokeFunction(\n",
       "                'suggestCharts', [key], {});\n",
       "          } catch (error) {\n",
       "            console.error('Error during call to suggestCharts:', error);\n",
       "          }\n",
       "          quickchartButtonEl.classList.remove('colab-df-spinner');\n",
       "          quickchartButtonEl.classList.add('colab-df-quickchart-complete');\n",
       "        }\n",
       "        (() => {\n",
       "          let quickchartButtonEl =\n",
       "            document.querySelector('#df-533180d3-4a57-4c30-af5b-df8e419348f1 button');\n",
       "          quickchartButtonEl.style.display =\n",
       "            google.colab.kernel.accessAllowed ? 'block' : 'none';\n",
       "        })();\n",
       "      </script>\n",
       "    </div>\n",
       "\n",
       "  <div id=\"id_0194e31b-4c14-497e-afdc-6ebbeb215171\">\n",
       "    <style>\n",
       "      .colab-df-generate {\n",
       "        background-color: #E8F0FE;\n",
       "        border: none;\n",
       "        border-radius: 50%;\n",
       "        cursor: pointer;\n",
       "        display: none;\n",
       "        fill: #1967D2;\n",
       "        height: 32px;\n",
       "        padding: 0 0 0 0;\n",
       "        width: 32px;\n",
       "      }\n",
       "\n",
       "      .colab-df-generate:hover {\n",
       "        background-color: #E2EBFA;\n",
       "        box-shadow: 0px 1px 2px rgba(60, 64, 67, 0.3), 0px 1px 3px 1px rgba(60, 64, 67, 0.15);\n",
       "        fill: #174EA6;\n",
       "      }\n",
       "\n",
       "      [theme=dark] .colab-df-generate {\n",
       "        background-color: #3B4455;\n",
       "        fill: #D2E3FC;\n",
       "      }\n",
       "\n",
       "      [theme=dark] .colab-df-generate:hover {\n",
       "        background-color: #434B5C;\n",
       "        box-shadow: 0px 1px 3px 1px rgba(0, 0, 0, 0.15);\n",
       "        filter: drop-shadow(0px 1px 2px rgba(0, 0, 0, 0.3));\n",
       "        fill: #FFFFFF;\n",
       "      }\n",
       "    </style>\n",
       "    <button class=\"colab-df-generate\" onclick=\"generateWithVariable('cm_test')\"\n",
       "            title=\"Generate code using this dataframe.\"\n",
       "            style=\"display:none;\">\n",
       "\n",
       "  <svg xmlns=\"http://www.w3.org/2000/svg\" height=\"24px\"viewBox=\"0 0 24 24\"\n",
       "       width=\"24px\">\n",
       "    <path d=\"M7,19H8.4L18.45,9,17,7.55,7,17.6ZM5,21V16.75L18.45,3.32a2,2,0,0,1,2.83,0l1.4,1.43a1.91,1.91,0,0,1,.58,1.4,1.91,1.91,0,0,1-.58,1.4L9.25,21ZM18.45,9,17,7.55Zm-12,3A5.31,5.31,0,0,0,4.9,8.1,5.31,5.31,0,0,0,1,6.5,5.31,5.31,0,0,0,4.9,4.9,5.31,5.31,0,0,0,6.5,1,5.31,5.31,0,0,0,8.1,4.9,5.31,5.31,0,0,0,12,6.5,5.46,5.46,0,0,0,6.5,12Z\"/>\n",
       "  </svg>\n",
       "    </button>\n",
       "    <script>\n",
       "      (() => {\n",
       "      const buttonEl =\n",
       "        document.querySelector('#id_0194e31b-4c14-497e-afdc-6ebbeb215171 button.colab-df-generate');\n",
       "      buttonEl.style.display =\n",
       "        google.colab.kernel.accessAllowed ? 'block' : 'none';\n",
       "\n",
       "      buttonEl.onclick = () => {\n",
       "        google.colab.notebook.generateWithVariable('cm_test');\n",
       "      }\n",
       "      })();\n",
       "    </script>\n",
       "  </div>\n",
       "\n",
       "    </div>\n",
       "  </div>\n"
      ],
      "text/plain": [
       "         pred_real(0)  pred_fake(1)\n",
       "real(0)          2118             2\n",
       "fake(1)             0          1790"
      ]
     },
     "execution_count": 11,
     "metadata": {},
     "output_type": "execute_result"
    }
   ],
   "source": [
    "# Evaluate model on test set: predictions, metrics, and confusion matrix\n",
    "pred_logits_test = trainer.predict(test_tok).predictions\n",
    "y_pred_test = pred_logits_test.argmax(1)\n",
    "proba_test = softmax(torch.tensor(pred_logits_test), dim=1).numpy()[:,1]\n",
    "\n",
    "print(\"TEST | F1-macro:\", round(f1_score(y_test, y_pred_test, average=\"macro\"), 6))\n",
    "print(classification_report(y_test, y_pred_test, digits=3, target_names=[\"real(0)\",\"fake(1)\"]))\n",
    "\n",
    "cm_test = pd.DataFrame(confusion_matrix(y_test, y_pred_test),\n",
    "                       index=[\"real(0)\",\"fake(1)\"],\n",
    "                       columns=[\"pred_real(0)\",\"pred_fake(1)\"])\n",
    "cm_test\n"
   ]
  },
  {
   "cell_type": "code",
   "execution_count": 12,
   "metadata": {
    "colab": {
     "base_uri": "https://localhost:8080/"
    },
    "executionInfo": {
     "elapsed": 2235,
     "status": "ok",
     "timestamp": 1759332089383,
     "user": {
      "displayName": "Svitlana Lisovych",
      "userId": "17285269011352565255"
     },
     "user_tz": -120
    },
    "id": "nu5xiDjrftuM",
    "outputId": "9d369ad2-55ea-4fac-e43f-9d4f239680a0"
   },
   "outputs": [
    {
     "name": "stdout",
     "output_type": "stream",
     "text": [
      "Exact dupes train∩val: 1\n",
      "Exact dupes train∩test: 0\n",
      "Exact dupes val∩test: 0\n"
     ]
    }
   ],
   "source": [
    "def norm(s):\n",
    "    \"\"\"\n",
    "    Normalize text by lowercasing and collapsing extra spaces.\n",
    "\n",
    "    Args:\n",
    "        s (str): Input string.\n",
    "    Returns:\n",
    "        str: Normalized string.\n",
    "    \"\"\"\n",
    "    return \" \".join(str(s).lower().split())\n",
    "\n",
    "# Build train/val/test DataFrames\n",
    "train_df = pd.DataFrame({\"text\": X_train, \"y\": y_train})\n",
    "val_df   = pd.DataFrame({\"text\": X_val,   \"y\": y_val})\n",
    "test_df  = pd.DataFrame({\"text\": X_test,  \"y\": y_test})\n",
    "\n",
    "# Hash normalized texts (SHA-1) for duplicate detection\n",
    "for d in (train_df, val_df, test_df):\n",
    "    d[\"h\"] = d[\"text\"].map(lambda t: hashlib.sha1(norm(t).encode(\"utf-8\")).hexdigest())\n",
    "\n",
    "# Check for exact duplicates across splits\n",
    "print(\"Exact dupes train∩val:\", len(set(train_df.h) & set(val_df.h)))\n",
    "print(\"Exact dupes train∩test:\", len(set(train_df.h) & set(test_df.h)))\n",
    "print(\"Exact dupes val∩test:\", len(set(val_df.h) & set(test_df.h)))\n"
   ]
  },
  {
   "cell_type": "code",
   "execution_count": 13,
   "metadata": {
    "colab": {
     "base_uri": "https://localhost:8080/",
     "height": 106
    },
    "executionInfo": {
     "elapsed": 7344,
     "status": "ok",
     "timestamp": 1759332096773,
     "user": {
      "displayName": "Svitlana Lisovych",
      "userId": "17285269011352565255"
     },
     "user_tz": -120
    },
    "id": "xJEXykwnmpIu",
    "outputId": "52f02632-afc5-49c3-f0a9-32c8d5fc60a8"
   },
   "outputs": [
    {
     "data": {
      "text/html": [],
      "text/plain": [
       "<IPython.core.display.HTML object>"
      ]
     },
     "metadata": {},
     "output_type": "display_data"
    },
    {
     "name": "stdout",
     "output_type": "stream",
     "text": [
      "Saved → ../reports/metrics.csv\n",
      "Saved → ../reports/metrics.csv\n"
     ]
    },
    {
     "name": "stderr",
     "output_type": "stream",
     "text": [
      "/tmp/ipython-input-2384649928.py:27: FutureWarning: The behavior of DataFrame concatenation with empty or all-NA entries is deprecated. In a future version, this will no longer exclude empty or all-NA columns when determining the result dtypes. To retain the old behavior, exclude the relevant entries before the concat operation.\n",
      "  met = pd.concat([met, row], ignore_index=True)\n"
     ]
    }
   ],
   "source": [
    "# Ensure reports directory exists\n",
    "os.makedirs(\"../reports\", exist_ok=True)\n",
    "\n",
    "def log_row(name, y_true, y_pred, proba):\n",
    "    \"\"\"\n",
    "    Save evaluation metrics and confusion matrix counts\n",
    "    to ../reports/metrics.csv. Updates existing entry if model name exists.\n",
    "    \"\"\"\n",
    "    cm = confusion_matrix(y_true, y_pred)\n",
    "    row = pd.DataFrame([{\n",
    "        \"model\": name,\n",
    "        \"n\": int(len(y_true)),\n",
    "        \"f1_macro\": float(round(f1_score(y_true, y_pred, average=\"macro\"), 6)),\n",
    "        \"f1_weighted\": float(round(f1_score(y_true, y_pred, average=\"weighted\"), 6)),\n",
    "        \"roc_auc\": float(round(roc_auc_score(y_true, proba), 6)),\n",
    "        \"pr_auc\": float(round(average_precision_score(y_true, proba), 6)),\n",
    "        \"tn\": int(cm[0,0]), \"fp\": int(cm[0,1]),\n",
    "        \"fn\": int(cm[1,0]), \"tp\": int(cm[1,1]),\n",
    "    }])\n",
    "\n",
    "    path = \"../reports/metrics.csv\"\n",
    "    # Load existing metrics if file exists, otherwise create new\n",
    "    met = pd.read_csv(path) if os.path.exists(path) else pd.DataFrame(columns=row.columns)\n",
    "    # Update entry if model with the same name already exists\n",
    "    met = met[met.model != name]\n",
    "    # Append new row and save\n",
    "    met = pd.concat([met, row], ignore_index=True)\n",
    "    met.to_csv(path, index=False)\n",
    "    print(\"Saved →\", path)\n",
    "\n",
    "\n",
    "# Log validation metrics\n",
    "from torch.nn.functional import softmax\n",
    "val_logits = trainer.predict(val_tok).predictions\n",
    "val_pred = val_logits.argmax(1)\n",
    "val_proba = softmax(torch.tensor(val_logits), dim=1).numpy()[:,1]\n",
    "log_row(\"bert_base_uncased_len128_val\", y_val, val_pred, val_proba)\n",
    "\n",
    "# Log test metrics\n",
    "log_row(\"bert_base_uncased_len128_test\", y_test, y_pred_test, proba_test)\n"
   ]
  }
 ],
 "metadata": {
  "accelerator": "GPU",
  "colab": {
   "authorship_tag": "ABX9TyNEZCpX6kH5TOSUJ7pBK0TB",
   "gpuType": "T4",
   "provenance": []
  },
  "kernelspec": {
   "display_name": "Python 3",
   "name": "python3"
  },
  "language_info": {
   "name": "python"
  }
 },
 "nbformat": 4,
 "nbformat_minor": 0
}
